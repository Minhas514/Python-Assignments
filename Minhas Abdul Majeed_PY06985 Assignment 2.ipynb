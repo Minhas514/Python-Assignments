{
 "cells": [
  {
   "cell_type": "code",
   "execution_count": 11,
   "metadata": {},
   "outputs": [
    {
     "name": "stdout",
     "output_type": "stream",
     "text": [
      "Enter 'e' for exit\n",
      "Enter Marks obtained in 5 subjects:\n",
      "99\n",
      "98\n",
      "97\n",
      "90\n",
      "100\n",
      "Your Grade is A+\n"
     ]
    }
   ],
   "source": [
    "print(\"Enter 'e' for exit\");\n",
    "print(\"Enter Marks obtained in 5 subjects:\");\n",
    "marks1=input();\n",
    "if marks1 == 'e':\n",
    " exit();\n",
    "else :\n",
    " marks1 = int(marks1);\n",
    "marks2 = int(input());\n",
    "marks3 = int(input());\n",
    "marks4 = int(input());\n",
    "marks5 = int(input());\n",
    "sum=marks1+marks2+marks3+marks4+marks5;\n",
    "average=sum/5;\n",
    "if(average>=91 and average<=100):\n",
    " print(\"Your Grade is A+\");\n",
    "elif(average>=81 and average<=90):\n",
    " print(\"Your Grade is A\");\n",
    "elif(average>=71 and average<=80):\n",
    " print(\"Your Grade is B+\");\n",
    "elif(average>=61 and average<=70):\n",
    " print(\"Your Grade is B\");\n",
    "elif(average>=51 and average<=60):\n",
    " print(\"Your Grade is C+\");\n",
    "elif(average>=41 and average<=50):\n",
    " print(\"Your Grade is C\");\n",
    "elif(average>=0 and average<=40):\n",
    " print(\"Your Grade is F\");\n",
    "else :\n",
    "    print(\"Boundary \");\n"
   ]
  },
  {
   "cell_type": "code",
   "execution_count": 19,
   "metadata": {},
   "outputs": [
    {
     "name": "stdout",
     "output_type": "stream",
     "text": [
      "Enter the Number:6\n",
      "Number is Even\n"
     ]
    }
   ],
   "source": [
    "number=int(input(\"Enter the Number:\"));\n",
    "mod = number % 2;\n",
    "if mod >  0:\n",
    " print(\"Number is Odd\");\n",
    "else:\n",
    " print(\"Number is Even\");"
   ]
  },
  {
   "cell_type": "code",
   "execution_count": 25,
   "metadata": {},
   "outputs": [
    {
     "name": "stdout",
     "output_type": "stream",
     "text": [
      "Length of list is: 11\n"
     ]
    }
   ],
   "source": [
    "a = len([1, 1, 2, 3, 5, 8, 13, 21, 34, 55, 89]) \n",
    "print(\"Length of list is:\" , a);"
   ]
  },
  {
   "cell_type": "code",
   "execution_count": 44,
   "metadata": {},
   "outputs": [
    {
     "name": "stdout",
     "output_type": "stream",
     "text": [
      "232\n"
     ]
    }
   ],
   "source": [
    "def sum(numbers):\n",
    "    total = 0\n",
    "    for x in numbers:\n",
    "        total += x\n",
    "    return total\n",
    "print(sum((1, 1, 2, 3, 5, 8, 13, 21, 34, 55, 89)))"
   ]
  },
  {
   "cell_type": "code",
   "execution_count": 45,
   "metadata": {},
   "outputs": [
    {
     "name": "stdout",
     "output_type": "stream",
     "text": [
      "89\n"
     ]
    }
   ],
   "source": [
    "def max_num_in_list( list ):\n",
    "    max = list[ 0 ]\n",
    "    for a in list:\n",
    "        if a > max:\n",
    "            max = a\n",
    "    return max\n",
    "print(max_num_in_list([1, 1, 2, 3, 5, 8, 13, 21, 34, 55, 89]))"
   ]
  },
  {
   "cell_type": "code",
   "execution_count": 72,
   "metadata": {},
   "outputs": [
    {
     "name": "stdout",
     "output_type": "stream",
     "text": [
      "[1]\n",
      "[1]\n",
      "[2]\n",
      "[3]\n"
     ]
    }
   ],
   "source": [
    "a = [1, 1, 2, 3, 5, 8, 13, 21, 34, 55, 89]\n",
    "\n",
    "for nums in a:\n",
    " if nums < 5:\n",
    "    print([nums])"
   ]
  },
  {
   "cell_type": "code",
   "execution_count": null,
   "metadata": {},
   "outputs": [],
   "source": []
  },
  {
   "cell_type": "code",
   "execution_count": null,
   "metadata": {},
   "outputs": [],
   "source": []
  }
 ],
 "metadata": {
  "kernelspec": {
   "display_name": "Python 3",
   "language": "python",
   "name": "python3"
  },
  "language_info": {
   "codemirror_mode": {
    "name": "ipython",
    "version": 3
   },
   "file_extension": ".py",
   "mimetype": "text/x-python",
   "name": "python",
   "nbconvert_exporter": "python",
   "pygments_lexer": "ipython3",
   "version": "3.7.4"
  }
 },
 "nbformat": 4,
 "nbformat_minor": 2
}
